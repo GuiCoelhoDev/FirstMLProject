{
  "cells": [
    {
      "cell_type": "markdown",
      "metadata": {
        "id": "view-in-github",
        "colab_type": "text"
      },
      "source": [
        "<a href=\"https://colab.research.google.com/github/GuiCoelhoDev/FirstMLProject/blob/main/First_Machine_Learning_Project.ipynb\" target=\"_parent\"><img src=\"https://colab.research.google.com/assets/colab-badge.svg\" alt=\"Open In Colab\"/></a>"
      ]
    },
    {
      "cell_type": "markdown",
      "metadata": {
        "id": "NOGbhzl4RFpl"
      },
      "source": [
        "# Imports"
      ]
    },
    {
      "cell_type": "code",
      "execution_count": null,
      "metadata": {
        "colab": {
          "base_uri": "https://localhost:8080/"
        },
        "id": "Z5RleeDjNoOz",
        "outputId": "3d49f67e-0685-421a-dacd-ff8666b1288f"
      },
      "outputs": [
        {
          "output_type": "stream",
          "name": "stdout",
          "text": [
            "Python: 3.7.12 (default, Jan 15 2022, 18:48:18) \n",
            "[GCC 7.5.0]\n",
            "scipy: 1.4.1\n",
            "numpy: 1.21.5\n",
            "matplotlib: 3.2.2\n",
            "pandas: 1.3.5\n",
            "sklearn: 1.0.2\n"
          ]
        }
      ],
      "source": [
        "# Python version\n",
        "import sys\n",
        "print('Python: {}'.format(sys.version))\n",
        "# scipy\n",
        "import scipy\n",
        "print('scipy: {}'.format(scipy.__version__))\n",
        "# numpy\n",
        "import numpy\n",
        "print('numpy: {}'.format(numpy.__version__))\n",
        "# matplotlib\n",
        "import matplotlib\n",
        "print('matplotlib: {}'.format(matplotlib.__version__))\n",
        "# pandas\n",
        "import pandas\n",
        "print('pandas: {}'.format(pandas.__version__))\n",
        "# scikit-learn\n",
        "import sklearn\n",
        "print('sklearn: {}'.format(sklearn.__version__))"
      ]
    },
    {
      "cell_type": "code",
      "execution_count": null,
      "metadata": {
        "id": "wbUIuuN4PhmL"
      },
      "outputs": [],
      "source": [
        "# Load libraries\n",
        "from pandas import read_csv\n",
        "from pandas.plotting import scatter_matrix\n",
        "from matplotlib import pyplot\n",
        "from sklearn.model_selection import train_test_split\n",
        "from sklearn.model_selection import cross_val_score\n",
        "from sklearn.model_selection import StratifiedKFold\n",
        "from sklearn.metrics import classification_report\n",
        "from sklearn.metrics import confusion_matrix\n",
        "from sklearn.metrics import accuracy_score\n",
        "from sklearn.linear_model import LogisticRegression\n",
        "from sklearn.tree import DecisionTreeClassifier\n",
        "from sklearn.neighbors import KNeighborsClassifier\n",
        "from sklearn.discriminant_analysis import LinearDiscriminantAnalysis\n",
        "from sklearn.naive_bayes import GaussianNB\n",
        "from sklearn.svm import SVC\n",
        "\n"
      ]
    },
    {
      "cell_type": "markdown",
      "metadata": {
        "id": "FEvP5BudRcvU"
      },
      "source": [
        "# Load dataset and startup Manipulations"
      ]
    },
    {
      "cell_type": "code",
      "execution_count": null,
      "metadata": {
        "colab": {
          "base_uri": "https://localhost:8080/",
          "height": 235
        },
        "id": "Z9XKHvnbRYlZ",
        "outputId": "f47f6de0-2510-4806-98b3-2cb3bf55b60b"
      },
      "outputs": [
        {
          "output_type": "error",
          "ename": "NameError",
          "evalue": "ignored",
          "traceback": [
            "\u001b[0;31m---------------------------------------------------------------------------\u001b[0m",
            "\u001b[0;31mNameError\u001b[0m                                 Traceback (most recent call last)",
            "\u001b[0;32m<ipython-input-5-d06832fb29b8>\u001b[0m in \u001b[0;36m<module>\u001b[0;34m()\u001b[0m\n\u001b[1;32m      7\u001b[0m \u001b[0;34m\u001b[0m\u001b[0m\n\u001b[1;32m      8\u001b[0m \u001b[0;34m\u001b[0m\u001b[0m\n\u001b[0;32m----> 9\u001b[0;31m \u001b[0miris\u001b[0m \u001b[0;34m=\u001b[0m \u001b[0mdatasets\u001b[0m\u001b[0;34m.\u001b[0m\u001b[0mload_iris\u001b[0m\u001b[0;34m(\u001b[0m\u001b[0;34m)\u001b[0m\u001b[0;34m\u001b[0m\u001b[0;34m\u001b[0m\u001b[0m\n\u001b[0m\u001b[1;32m     10\u001b[0m \u001b[0;34m\u001b[0m\u001b[0m\n\u001b[1;32m     11\u001b[0m \u001b[0;34m\u001b[0m\u001b[0m\n",
            "\u001b[0;31mNameError\u001b[0m: name 'datasets' is not defined"
          ]
        }
      ],
      "source": [
        "\n",
        "\n",
        "\n",
        "url = \"https://raw.githubusercontent.com/jbrownlee/Datasets/master/iris.csv\"\n",
        "names = ['sepal-length', 'sepal-width', 'petal-length', 'petal-width', 'class']\n",
        "dataset = read_csv(url, names=names)\n",
        "\n",
        "\n",
        "\n",
        "\n",
        "\n",
        "\n",
        "\n"
      ]
    },
    {
      "cell_type": "code",
      "source": [
        "from sklearn import datasets\n",
        "iris = datasets.load_iris()\n",
        "iris.feature_names"
      ],
      "metadata": {
        "colab": {
          "base_uri": "https://localhost:8080/"
        },
        "id": "kXj4bhBxcrbI",
        "outputId": "e1ce93a8-6e0c-4c97-90a0-4dbd3b8a59c5"
      },
      "execution_count": null,
      "outputs": [
        {
          "output_type": "execute_result",
          "data": {
            "text/plain": [
              "['sepal length (cm)',\n",
              " 'sepal width (cm)',\n",
              " 'petal length (cm)',\n",
              " 'petal width (cm)']"
            ]
          },
          "metadata": {},
          "execution_count": 9
        }
      ]
    },
    {
      "cell_type": "markdown",
      "source": [
        "# Summarize Data"
      ],
      "metadata": {
        "id": "XxaxNdcdp8r-"
      }
    },
    {
      "cell_type": "code",
      "source": [
        "\n",
        "print(\"\\nHead\")\n",
        "print(dataset.sample(10))\n",
        "print(\"\\nDescribe\")\n",
        "print(dataset.describe())\n",
        "print(\"\\nClass distribution\")\n",
        "print(dataset.groupby('class').size())"
      ],
      "metadata": {
        "id": "d1keUvl0U58E"
      },
      "execution_count": null,
      "outputs": []
    },
    {
      "cell_type": "markdown",
      "source": [
        "\n",
        "# Data visualization"
      ],
      "metadata": {
        "id": "RwPGS7ASqk8h"
      }
    },
    {
      "cell_type": "code",
      "source": [
        "\n",
        "#@title Univariate Plots\n",
        "dataset.plot(kind='box', subplots=True, layout=(2,2), sharex=False, sharey = False)\n",
        "pyplot.show()\n",
        "\n",
        "dataset.hist(bins= 50)\n",
        "pyplot.show()\n"
      ],
      "metadata": {
        "id": "IG3cVATpSpCP"
      },
      "execution_count": null,
      "outputs": []
    },
    {
      "cell_type": "code",
      "source": [
        "#@title Multivariate Plots\n",
        "scatter_matrix(dataset, figsize=(10,10))\n",
        "pyplot.show() "
      ],
      "metadata": {
        "id": "CCvoh535QvMk"
      },
      "execution_count": null,
      "outputs": []
    },
    {
      "cell_type": "markdown",
      "source": [
        "# Evaluate Algorithms"
      ],
      "metadata": {
        "id": "trxSfk1vS8Tn"
      }
    },
    {
      "cell_type": "code",
      "source": [
        "\n",
        "#@title Create train and test data\n",
        "array = dataset.values # um array em que cada elemento é uma linha do dataframe\n",
        "X = array[:, 0:4] # pega todas as linhas, da 0 a 3 coluna [0:4[\n",
        "y = array[:, 4] # pega a ultima coluna, os rótulos\n",
        "train_x, test_x, train_y, test_y = train_test_split(X,y, test_size=0.2, random_state=1)\n",
        "\n",
        "print_var_value = test_y #@param [\"X\", \"y\",\"train_x\", \"test_x\", \"train_y\",\"array\", \"test_y\"] {type:\"raw\"}\n",
        "\n",
        "print(print_var_value) \n"
      ],
      "metadata": {
        "id": "JaGTxB4ZS-Nz"
      },
      "execution_count": null,
      "outputs": []
    },
    {
      "cell_type": "code",
      "source": [
        "#@title Build Models\n",
        "\n",
        "models = []\n",
        "models.append(('LR', LogisticRegression(solver='liblinear', multi_class='ovr')))\n",
        "models.append(('LDA', LinearDiscriminantAnalysis()))\n",
        "models.append(('KNN', KNeighborsClassifier()))\n",
        "models.append(('CART', DecisionTreeClassifier()))\n",
        "models.append(('NB', GaussianNB()))\n",
        "models.append(('SVM', SVC(gamma='auto')))\n",
        "\n",
        "\n",
        "results = []\n",
        "names = []\n",
        "for name, model in models:\n",
        "\tkfold = StratifiedKFold(n_splits=10, random_state=1, shuffle=True)\n",
        "\tcv_results = cross_val_score(model, train_x, train_y, cv=kfold, scoring='accuracy')\n",
        "\tresults.append(cv_results)\n",
        "\tnames.append(name)\n",
        "\tprint('%s: %f (%f)' % (name, cv_results.mean(), cv_results.std()))\n",
        "\n",
        "print_var_value = models #@param [\"models\"] \n",
        "print(print_var_value)"
      ],
      "metadata": {
        "id": "Ui3cWD9rJJXh"
      },
      "execution_count": null,
      "outputs": []
    },
    {
      "cell_type": "code",
      "source": [
        "#@title Compare algorithms\n",
        "\n",
        "pyplot.boxplot(results, labels=names)\n",
        "pyplot.title('Algorithm Comparison')\n",
        "pyplot.show()"
      ],
      "metadata": {
        "id": "qEZZr16YNVWI"
      },
      "execution_count": null,
      "outputs": []
    },
    {
      "cell_type": "markdown",
      "source": [
        "# Make Predictions"
      ],
      "metadata": {
        "id": "g1k1veb5NnF-"
      }
    },
    {
      "cell_type": "code",
      "source": [
        "\n",
        "#@title Make predictions on validation dataset\n",
        "model = SVC(gamma='auto')\n",
        "model.fit(train_x, train_y)\n",
        "predictions = model.predict(test_x)"
      ],
      "metadata": {
        "id": "pKkAQBH_NoW1"
      },
      "execution_count": null,
      "outputs": []
    },
    {
      "cell_type": "code",
      "source": [
        "#@title Evaluate Predictions\n",
        "\n",
        "print(accuracy_score(test_y, predictions))\n",
        "print(confusion_matrix(test_y, predictions))\n",
        "print(classification_report(test_y, predictions))"
      ],
      "metadata": {
        "id": "4R6v32b6Oaf6"
      },
      "execution_count": null,
      "outputs": []
    },
    {
      "cell_type": "code",
      "source": [
        ""
      ],
      "metadata": {
        "id": "QLkq0tENPRsH"
      },
      "execution_count": null,
      "outputs": []
    },
    {
      "cell_type": "markdown",
      "metadata": {
        "id": "mmhDsQIRRLvJ"
      },
      "source": [
        ""
      ]
    }
  ],
  "metadata": {
    "colab": {
      "name": "First Machine Learning Project.ipynb",
      "provenance": [],
      "toc_visible": true,
      "authorship_tag": "ABX9TyONSNILJ+7vbouHIfHLPbGo",
      "include_colab_link": true
    },
    "kernelspec": {
      "display_name": "Python 3",
      "name": "python3"
    },
    "language_info": {
      "name": "python"
    }
  },
  "nbformat": 4,
  "nbformat_minor": 0
}